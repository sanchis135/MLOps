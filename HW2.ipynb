{
 "cells": [
  {
   "cell_type": "markdown",
   "id": "d6836ac2",
   "metadata": {},
   "source": [
    "## Homework\n",
    "\n",
    "The goal of this homework is to get familiar with MLflow, the tool for experiment tracking and model management."
   ]
  },
  {
   "cell_type": "code",
   "execution_count": 1,
   "id": "78fecd39",
   "metadata": {},
   "outputs": [],
   "source": [
    "import mlflow\n",
    "import os"
   ]
  },
  {
   "cell_type": "markdown",
   "id": "3db63846",
   "metadata": {},
   "source": [
    "## Q1. Install MLflow\n",
    "\n",
    "To get started with MLflow you'll need to install the MLflow Python package.\n",
    "\n",
    "For this we recommend creating a separate Python environment, for example, you can use [conda environments](https://docs.conda.io/projects/conda/en/latest/user-guide/getting-started.html#managing-envs), and then install the package there with `pip` or `conda`.\n",
    "\n",
    "Once you installed the package, run the command `mlflow --version` and check the output.\n",
    "\n",
    "What's the version that you have?"
   ]
  },
  {
   "cell_type": "code",
   "execution_count": null,
   "id": "34e97f77",
   "metadata": {},
   "outputs": [],
   "source": [
    "# In terminal, run:\n",
    "# pip install -r HW2/HW2_requirements.txt"
   ]
  },
  {
   "cell_type": "code",
   "execution_count": 2,
   "id": "1ec82af9",
   "metadata": {},
   "outputs": [
    {
     "name": "stdout",
     "output_type": "stream",
     "text": [
      "mlflow, version 2.22.0\n"
     ]
    }
   ],
   "source": [
    "!mlflow --version"
   ]
  },
  {
   "cell_type": "markdown",
   "id": "9e857ca5",
   "metadata": {},
   "source": [
    "## Q2. Download and preprocess the data\n",
    "\n",
    "We'll use the Green Taxi Trip Records dataset to predict the duration of each trip. \n",
    "\n",
    "Download the data for January, February and March 2023 in parquet format from [here](https://www1.nyc.gov/site/tlc/about/tlc-trip-record-data.page).\n",
    "\n",
    "Use the script `preprocess_data.py` located in the folder [`homework`](homework) to preprocess the data.\n",
    "\n",
    "The script will:\n",
    "\n",
    "* load the data from the folder `<TAXI_DATA_FOLDER>` (the folder where you have downloaded the data),\n",
    "* fit a `DictVectorizer` on the training set (January 2023 data),\n",
    "* save the preprocessed datasets and the `DictVectorizer` to disk.\n",
    "\n",
    "Your task is to download the datasets and then execute this command:\n",
    "\n",
    "```\n",
    "python preprocess_data.py --raw_data_path <TAXI_DATA_FOLDER> --dest_path ./output\n",
    "```\n",
    "\n",
    "Tip: go to `02-experiment-tracking/homework/` folder before executing the command and change the value of `<TAXI_DATA_FOLDER>` to the location where you saved the data.\n",
    "\n",
    "How many files were saved to `OUTPUT_FOLDER`?\n",
    "\n",
    "* 1\n",
    "* 3\n",
    "* **4**\n",
    "* 7\n"
   ]
  },
  {
   "cell_type": "code",
   "execution_count": 4,
   "id": "04456859",
   "metadata": {},
   "outputs": [],
   "source": [
    "! python HW2/preprocess_data.py --raw_data_path HW2/data/ --dest_path HW2/output"
   ]
  },
  {
   "cell_type": "code",
   "execution_count": 5,
   "id": "2c5b2dc1",
   "metadata": {},
   "outputs": [
    {
     "name": "stdout",
     "output_type": "stream",
     "text": [
      "dv.pkl\n",
      "test.pkl\n",
      "train.pkl\n",
      "val.pkl\n"
     ]
    }
   ],
   "source": [
    "!dir \"HW2/output\" /b"
   ]
  },
  {
   "cell_type": "markdown",
   "id": "54600c84",
   "metadata": {},
   "source": [
    "## Q3. Train a model with autolog\n",
    "\n",
    "We will train a `RandomForestRegressor` (from Scikit-Learn) on the taxi dataset.\n",
    "\n",
    "We have prepared the training script `train.py` for this exercise, which can be also found in the folder [`homework`](homework). \n",
    "\n",
    "The script will:\n",
    "\n",
    "* load the datasets produced by the previous step,\n",
    "* train the model on the training set,\n",
    "* calculate the RMSE score on the validation set.\n",
    "\n",
    "Your task is to modify the script to enable **autologging** with MLflow, execute the script and then launch the MLflow UI to check that the experiment run was properly tracked. \n",
    "\n",
    "Tip 1: don't forget to wrap the training code with a `with mlflow.start_run():` statement as we showed in the videos.\n",
    "\n",
    "Tip 2: don't modify the hyperparameters of the model to make sure that the training will finish quickly.\n",
    "\n",
    "What is the value of the `min_samples_split` parameter:\n",
    "\n",
    "* **2**\n",
    "* 4\n",
    "* 8\n",
    "* 10"
   ]
  },
  {
   "cell_type": "code",
   "execution_count": 6,
   "id": "2fdc3afa",
   "metadata": {},
   "outputs": [
    {
     "name": "stdout",
     "output_type": "stream",
     "text": [
      "\n",
      "RandomForestRegressor default hyperparameters:\n",
      "bootstrap: True\n",
      "ccp_alpha: 0.0\n",
      "criterion: squared_error\n",
      "max_depth: 10\n",
      "max_features: 1.0\n",
      "max_leaf_nodes: None\n",
      "max_samples: None\n",
      "min_impurity_decrease: 0.0\n",
      "min_samples_leaf: 1\n",
      "min_samples_split: 2\n",
      "min_weight_fraction_leaf: 0.0\n",
      "monotonic_cst: None\n",
      "n_estimators: 100\n",
      "n_jobs: None\n",
      "oob_score: False\n",
      "random_state: 0\n",
      "verbose: 0\n",
      "warm_start: False\n"
     ]
    }
   ],
   "source": [
    "! python HW2/train.py --data_path HW2/output"
   ]
  },
  {
   "cell_type": "markdown",
   "id": "ba49822c",
   "metadata": {},
   "source": [
    "## Q4. Launch the tracking server locally\n",
    "\n",
    "Now we want to manage the entire lifecycle of our ML model. In this step, you'll need to launch a tracking server. This way we will also have access to the model registry. \n",
    "\n",
    "Your task is to:\n",
    "\n",
    "* launch the tracking server on your local machine,\n",
    "* select a SQLite db for the backend store and a folder called `artifacts` for the artifacts store.\n",
    "\n",
    "You should keep the tracking server running to work on the next two exercises that use the server.\n",
    "\n",
    "In addition to `backend-store-uri`, what else do you need to pass to properly configure the server?\n",
    "\n",
    "* **`default-artifact-root`**\n",
    "* `serve-artifacts`\n",
    "* `artifacts-only`\n",
    "* `artifacts-destination`"
   ]
  },
  {
   "cell_type": "code",
   "execution_count": 8,
   "id": "13014ec2",
   "metadata": {},
   "outputs": [
    {
     "name": "stdout",
     "output_type": "stream",
     "text": [
      "^C\n"
     ]
    }
   ],
   "source": [
    "#Answer: default-artifact-root\n",
    "\n",
    "!mlflow server --backend-store-uri sqlite:///mlflow.db --default-artifact-root ./HW2/artifacts"
   ]
  },
  {
   "cell_type": "markdown",
   "id": "81edf617",
   "metadata": {},
   "source": [
    "## Q5. Tune model hyperparameters\n",
    "\n",
    "Now let's try to reduce the validation error by tuning the hyperparameters of the `RandomForestRegressor` using `hyperopt`. \n",
    "We have prepared the script `hpo.py` for this exercise. \n",
    "\n",
    "Your task is to modify the script `hpo.py` and make sure that the validation RMSE is logged to the tracking server for each run of the hyperparameter optimization (you will need to add a few lines of code to the `objective` function) and run the script without passing any parameters.\n",
    "\n",
    "After that, open UI and explore the runs from the experiment called `random-forest-hyperopt` to answer the question below.\n",
    "\n",
    "Note: Don't use autologging for this exercise.\n",
    "\n",
    "The idea is to just log the information that you need to answer the question below, including:\n",
    "\n",
    "* the list of hyperparameters that are passed to the `objective` function during the optimization,\n",
    "* the RMSE obtained on the validation set (February 2023 data).\n",
    "\n",
    "What's the best validation RMSE that you got?\n",
    "\n",
    "* 4.817\n",
    "* **5.335**\n",
    "* 5.818\n",
    "* 6.336\n"
   ]
  },
  {
   "cell_type": "code",
   "execution_count": 11,
   "id": "97375f2a",
   "metadata": {},
   "outputs": [
    {
     "name": "stdout",
     "output_type": "stream",
     "text": [
      "\n",
      "  0%|          | 0/15 [00:00<?, ?trial/s, best loss=?]\n",
      "  7%|▋         | 1/15 [00:06<01:35,  6.82s/trial, best loss: 5.370086069268862]\n",
      " 13%|█▎        | 2/15 [00:07<00:38,  2.98s/trial, best loss: 5.370086069268862]\n",
      " 20%|██        | 3/15 [00:07<00:21,  1.83s/trial, best loss: 5.370086069268862]\n",
      " 27%|██▋       | 4/15 [00:12<00:32,  2.92s/trial, best loss: 5.357490752366866]\n",
      " 33%|███▎      | 5/15 [00:14<00:26,  2.65s/trial, best loss: 5.357490752366866]\n",
      " 40%|████      | 6/15 [00:21<00:38,  4.29s/trial, best loss: 5.354695072530291]\n",
      " 47%|████▋     | 7/15 [00:29<00:42,  5.27s/trial, best loss: 5.354695072530291]\n",
      " 53%|█████▎    | 8/15 [00:29<00:26,  3.84s/trial, best loss: 5.354695072530291]\n",
      " 60%|██████    | 9/15 [00:34<00:24,  4.09s/trial, best loss: 5.354695072530291]\n",
      " 67%|██████▋   | 10/15 [00:38<00:20,  4.01s/trial, best loss: 5.354695072530291]\n",
      " 73%|███████▎  | 11/15 [00:41<00:14,  3.69s/trial, best loss: 5.335419588556921]\n",
      " 80%|████████  | 12/15 [00:43<00:09,  3.24s/trial, best loss: 5.335419588556921]\n",
      " 87%|████████▋ | 13/15 [00:44<00:04,  2.47s/trial, best loss: 5.335419588556921]\n",
      " 93%|█████████▎| 14/15 [00:46<00:02,  2.49s/trial, best loss: 5.335419588556921]\n",
      "100%|██████████| 15/15 [00:50<00:00,  3.01s/trial, best loss: 5.335419588556921]\n",
      "100%|██████████| 15/15 [00:50<00:00,  3.40s/trial, best loss: 5.335419588556921]\n"
     ]
    }
   ],
   "source": [
    "\n",
    "!python HW2/hpo.py --data_path HW2/output "
   ]
  },
  {
   "cell_type": "markdown",
   "id": "2c1deee1",
   "metadata": {},
   "source": [
    "## Q6. Promote the best model to the model registry\n",
    "\n",
    "The results from the hyperparameter optimization are quite good. So, we can assume that we are ready to test some of these models in production. \n",
    "In this exercise, you'll promote the best model to the model registry. We have prepared a script called `register_model.py`, which will check the results from the previous step and select the top 5 runs. \n",
    "After that, it will calculate the RMSE of those models on the test set (March 2023 data) and save the results to a new experiment called `random-forest-best-models`.\n",
    "\n",
    "Your task is to update the script `register_model.py` so that it selects the model with the lowest RMSE on the test set and registers it to the model registry.\n",
    "\n",
    "Tip 1: you can use the method `search_runs` from the `MlflowClient` to get the model with the lowest RMSE,\n",
    "\n",
    "Tip 2: to register the model you can use the method `mlflow.register_model` and you will need to pass the right `model_uri` in the form of a string that looks like this: `\"runs:/<RUN_ID>/model\"`, and the name of the model (make sure to choose a good one!).\n",
    "\n",
    "What is the test RMSE of the best model?\n",
    "\n",
    "* 5.060\n",
    "* **5.567**\n",
    "* 6.061\n",
    "* 6.568\n"
   ]
  },
  {
   "cell_type": "code",
   "execution_count": 15,
   "id": "0b55155c",
   "metadata": {},
   "outputs": [
    {
     "name": "stdout",
     "output_type": "stream",
     "text": [
      "🏃 View run abundant-cod-320 at: http://127.0.0.1:5000/#/experiments/2/runs/2158eb25441f437ba07aa9b3ab24ae96\n",
      "🧪 View experiment at: http://127.0.0.1:5000/#/experiments/2\n",
      "🏃 View run capable-calf-265 at: http://127.0.0.1:5000/#/experiments/2/runs/cdf6d264127b46048cb672fcf2b16f3a\n",
      "🧪 View experiment at: http://127.0.0.1:5000/#/experiments/2\n",
      "🏃 View run polite-ant-248 at: http://127.0.0.1:5000/#/experiments/2/runs/cf1fd2b3e5324b379706138febabeb85\n",
      "🧪 View experiment at: http://127.0.0.1:5000/#/experiments/2\n",
      "🏃 View run delicate-stork-253 at: http://127.0.0.1:5000/#/experiments/2/runs/74d4bd86ef624267a7313e1de2ab4eee\n",
      "🧪 View experiment at: http://127.0.0.1:5000/#/experiments/2\n",
      "🏃 View run clumsy-kite-23 at: http://127.0.0.1:5000/#/experiments/2/runs/4ce553dbe772468a9a53c76f9928a896\n",
      "🧪 View experiment at: http://127.0.0.1:5000/#/experiments/2\n"
     ]
    },
    {
     "name": "stderr",
     "output_type": "stream",
     "text": [
      "Successfully registered model 'random-forest-regressor-best'.\n",
      "2025/05/22 20:44:59 INFO mlflow.store.model_registry.abstract_store: Waiting up to 300 seconds for model version to finish creation. Model name: random-forest-regressor-best, version 1\n",
      "Created version '1' of model 'random-forest-regressor-best'.\n"
     ]
    }
   ],
   "source": [
    "!python HW2/register_model.py --data_path HW2/output "
   ]
  }
 ],
 "metadata": {
  "kernelspec": {
   "display_name": ".venv",
   "language": "python",
   "name": "python3"
  },
  "language_info": {
   "codemirror_mode": {
    "name": "ipython",
    "version": 3
   },
   "file_extension": ".py",
   "mimetype": "text/x-python",
   "name": "python",
   "nbconvert_exporter": "python",
   "pygments_lexer": "ipython3",
   "version": "3.13.3"
  }
 },
 "nbformat": 4,
 "nbformat_minor": 5
}
