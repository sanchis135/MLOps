{
 "cells": [
  {
   "cell_type": "markdown",
   "id": "93523d9f",
   "metadata": {},
   "source": [
    "# Import libraries and load raw data"
   ]
  },
  {
   "cell_type": "code",
   "execution_count": 12,
   "id": "0c69654e",
   "metadata": {},
   "outputs": [
    {
     "data": {
      "text/html": [
       "<div>\n",
       "<style scoped>\n",
       "    .dataframe tbody tr th:only-of-type {\n",
       "        vertical-align: middle;\n",
       "    }\n",
       "\n",
       "    .dataframe tbody tr th {\n",
       "        vertical-align: top;\n",
       "    }\n",
       "\n",
       "    .dataframe thead th {\n",
       "        text-align: right;\n",
       "    }\n",
       "</style>\n",
       "<table border=\"1\" class=\"dataframe\">\n",
       "  <thead>\n",
       "    <tr style=\"text-align: right;\">\n",
       "      <th></th>\n",
       "      <th>is_delay</th>\n",
       "      <th>Year</th>\n",
       "      <th>Quarter</th>\n",
       "      <th>Month</th>\n",
       "      <th>DayofMonth</th>\n",
       "      <th>DayOfWeek</th>\n",
       "      <th>FlightDate</th>\n",
       "      <th>Reporting_Airline</th>\n",
       "      <th>Origin</th>\n",
       "      <th>OriginState</th>\n",
       "      <th>Dest</th>\n",
       "      <th>DestState</th>\n",
       "      <th>CRSDepTime</th>\n",
       "      <th>Cancelled</th>\n",
       "      <th>Diverted</th>\n",
       "      <th>Distance</th>\n",
       "      <th>DistanceGroup</th>\n",
       "      <th>ArrDelay</th>\n",
       "      <th>ArrDelayMinutes</th>\n",
       "      <th>AirTime</th>\n",
       "    </tr>\n",
       "  </thead>\n",
       "  <tbody>\n",
       "    <tr>\n",
       "      <th>0</th>\n",
       "      <td>1.0</td>\n",
       "      <td>2014</td>\n",
       "      <td>1</td>\n",
       "      <td>1</td>\n",
       "      <td>1</td>\n",
       "      <td>3</td>\n",
       "      <td>2014-01-01</td>\n",
       "      <td>UA</td>\n",
       "      <td>LAX</td>\n",
       "      <td>CA</td>\n",
       "      <td>ORD</td>\n",
       "      <td>IL</td>\n",
       "      <td>900</td>\n",
       "      <td>0.0</td>\n",
       "      <td>0.0</td>\n",
       "      <td>1744.0</td>\n",
       "      <td>7</td>\n",
       "      <td>43.0</td>\n",
       "      <td>43.0</td>\n",
       "      <td>218.0</td>\n",
       "    </tr>\n",
       "    <tr>\n",
       "      <th>1</th>\n",
       "      <td>0.0</td>\n",
       "      <td>2014</td>\n",
       "      <td>1</td>\n",
       "      <td>1</td>\n",
       "      <td>1</td>\n",
       "      <td>3</td>\n",
       "      <td>2014-01-01</td>\n",
       "      <td>AA</td>\n",
       "      <td>IAH</td>\n",
       "      <td>TX</td>\n",
       "      <td>DFW</td>\n",
       "      <td>TX</td>\n",
       "      <td>1750</td>\n",
       "      <td>0.0</td>\n",
       "      <td>0.0</td>\n",
       "      <td>224.0</td>\n",
       "      <td>1</td>\n",
       "      <td>2.0</td>\n",
       "      <td>2.0</td>\n",
       "      <td>50.0</td>\n",
       "    </tr>\n",
       "    <tr>\n",
       "      <th>2</th>\n",
       "      <td>1.0</td>\n",
       "      <td>2014</td>\n",
       "      <td>1</td>\n",
       "      <td>1</td>\n",
       "      <td>1</td>\n",
       "      <td>3</td>\n",
       "      <td>2014-01-01</td>\n",
       "      <td>AA</td>\n",
       "      <td>LAX</td>\n",
       "      <td>CA</td>\n",
       "      <td>ORD</td>\n",
       "      <td>IL</td>\n",
       "      <td>1240</td>\n",
       "      <td>0.0</td>\n",
       "      <td>0.0</td>\n",
       "      <td>1744.0</td>\n",
       "      <td>7</td>\n",
       "      <td>26.0</td>\n",
       "      <td>26.0</td>\n",
       "      <td>220.0</td>\n",
       "    </tr>\n",
       "    <tr>\n",
       "      <th>3</th>\n",
       "      <td>1.0</td>\n",
       "      <td>2014</td>\n",
       "      <td>1</td>\n",
       "      <td>1</td>\n",
       "      <td>1</td>\n",
       "      <td>3</td>\n",
       "      <td>2014-01-01</td>\n",
       "      <td>AA</td>\n",
       "      <td>DFW</td>\n",
       "      <td>TX</td>\n",
       "      <td>LAX</td>\n",
       "      <td>CA</td>\n",
       "      <td>1905</td>\n",
       "      <td>0.0</td>\n",
       "      <td>0.0</td>\n",
       "      <td>1235.0</td>\n",
       "      <td>5</td>\n",
       "      <td>159.0</td>\n",
       "      <td>159.0</td>\n",
       "      <td>169.0</td>\n",
       "    </tr>\n",
       "    <tr>\n",
       "      <th>4</th>\n",
       "      <td>0.0</td>\n",
       "      <td>2014</td>\n",
       "      <td>1</td>\n",
       "      <td>1</td>\n",
       "      <td>1</td>\n",
       "      <td>3</td>\n",
       "      <td>2014-01-01</td>\n",
       "      <td>AA</td>\n",
       "      <td>DFW</td>\n",
       "      <td>TX</td>\n",
       "      <td>CLT</td>\n",
       "      <td>NC</td>\n",
       "      <td>1115</td>\n",
       "      <td>0.0</td>\n",
       "      <td>0.0</td>\n",
       "      <td>936.0</td>\n",
       "      <td>4</td>\n",
       "      <td>-13.0</td>\n",
       "      <td>0.0</td>\n",
       "      <td>108.0</td>\n",
       "    </tr>\n",
       "  </tbody>\n",
       "</table>\n",
       "</div>"
      ],
      "text/plain": [
       "   is_delay  Year  Quarter  Month  DayofMonth  DayOfWeek  FlightDate  \\\n",
       "0       1.0  2014        1      1           1          3  2014-01-01   \n",
       "1       0.0  2014        1      1           1          3  2014-01-01   \n",
       "2       1.0  2014        1      1           1          3  2014-01-01   \n",
       "3       1.0  2014        1      1           1          3  2014-01-01   \n",
       "4       0.0  2014        1      1           1          3  2014-01-01   \n",
       "\n",
       "  Reporting_Airline Origin OriginState Dest DestState  CRSDepTime  Cancelled  \\\n",
       "0                UA    LAX          CA  ORD        IL         900        0.0   \n",
       "1                AA    IAH          TX  DFW        TX        1750        0.0   \n",
       "2                AA    LAX          CA  ORD        IL        1240        0.0   \n",
       "3                AA    DFW          TX  LAX        CA        1905        0.0   \n",
       "4                AA    DFW          TX  CLT        NC        1115        0.0   \n",
       "\n",
       "   Diverted  Distance  DistanceGroup  ArrDelay  ArrDelayMinutes  AirTime  \n",
       "0       0.0    1744.0              7      43.0             43.0    218.0  \n",
       "1       0.0     224.0              1       2.0              2.0     50.0  \n",
       "2       0.0    1744.0              7      26.0             26.0    220.0  \n",
       "3       0.0    1235.0              5     159.0            159.0    169.0  \n",
       "4       0.0     936.0              4     -13.0              0.0    108.0  "
      ]
     },
     "execution_count": 12,
     "metadata": {},
     "output_type": "execute_result"
    }
   ],
   "source": [
    "import pandas as pd\n",
    "import numpy as np\n",
    "import os\n",
    "\n",
    "df = pd.read_csv('../data/raw/archive/flight_delay_predict.csv')\n",
    "df.head()"
   ]
  },
  {
   "cell_type": "code",
   "execution_count": 13,
   "id": "af07d4d5",
   "metadata": {},
   "outputs": [
    {
     "data": {
      "text/plain": [
       "(1635590, 20)"
      ]
     },
     "execution_count": 13,
     "metadata": {},
     "output_type": "execute_result"
    }
   ],
   "source": [
    "df.shape"
   ]
  },
  {
   "cell_type": "markdown",
   "id": "2914fcb3",
   "metadata": {},
   "source": [
    "# Select relevant columns"
   ]
  },
  {
   "cell_type": "code",
   "execution_count": 15,
   "id": "ee1aee34",
   "metadata": {},
   "outputs": [
    {
     "name": "stdout",
     "output_type": "stream",
     "text": [
      "🧾 Columns reduced to: 20\n"
     ]
    }
   ],
   "source": [
    "columns_to_keep = [\n",
    "    'is_delay', 'Year', 'Quarter', 'Month', 'DayofMonth', 'DayOfWeek',\n",
    "    'FlightDate', 'Reporting_Airline', 'Origin', 'OriginState',\n",
    "    'Dest', 'DestState', 'CRSDepTime', 'Cancelled', 'Diverted',\n",
    "    'Distance', 'DistanceGroup', 'ArrDelay', 'ArrDelayMinutes', 'AirTime'\n",
    "]\n",
    "\n",
    "df = df[columns_to_keep]\n",
    "print(f\"🧾 Columns reduced to: {df.shape[1]}\")"
   ]
  },
  {
   "cell_type": "markdown",
   "id": "fdd05e62",
   "metadata": {},
   "source": [
    "# Filter cancelled and diverted flights"
   ]
  },
  {
   "cell_type": "code",
   "execution_count": 17,
   "id": "d659e84d",
   "metadata": {},
   "outputs": [],
   "source": [
    "df = df[(df['Cancelled'] == 0.0) & (df['Diverted'] == 0.0)]\n"
   ]
  },
  {
   "cell_type": "markdown",
   "id": "aaf35d8a",
   "metadata": {},
   "source": [
    "# Convert 'FlightDate' to datetime"
   ]
  },
  {
   "cell_type": "code",
   "execution_count": 18,
   "id": "6255b57f",
   "metadata": {},
   "outputs": [],
   "source": [
    "df['FlightDate'] = pd.to_datetime(df['FlightDate'])"
   ]
  },
  {
   "cell_type": "markdown",
   "id": "fa9aaf9f",
   "metadata": {},
   "source": [
    "# Convert CRSDepTime to hour of the day"
   ]
  },
  {
   "cell_type": "code",
   "execution_count": 19,
   "id": "46d031e0",
   "metadata": {},
   "outputs": [],
   "source": [
    "df['CRSDepHour'] = df['CRSDepTime'].astype(str).str.zfill(4).str[:2].astype(int)"
   ]
  },
  {
   "cell_type": "markdown",
   "id": "a080e2e5",
   "metadata": {},
   "source": [
    "# Replace possible nulls in delay columns (ArrDelay may be -13, -5, etc.)"
   ]
  },
  {
   "cell_type": "code",
   "execution_count": 20,
   "id": "bf9cdfe7",
   "metadata": {},
   "outputs": [],
   "source": [
    "df['ArrDelayMinutes'] = df['ArrDelayMinutes'].fillna(0)\n",
    "df['ArrDelay'] = df['ArrDelay'].fillna(0)\n",
    "df['AirTime'] = df['AirTime'].fillna(df['AirTime'].median())"
   ]
  },
  {
   "cell_type": "markdown",
   "id": "67885a4d",
   "metadata": {},
   "source": [
    "# Ensure 'is_delay' is binary integer"
   ]
  },
  {
   "cell_type": "code",
   "execution_count": 21,
   "id": "4c235b88",
   "metadata": {},
   "outputs": [],
   "source": [
    "df['is_delay'] = df['is_delay'].astype(int)"
   ]
  },
  {
   "cell_type": "markdown",
   "id": "4c37836f",
   "metadata": {},
   "source": [
    "# Reset index"
   ]
  },
  {
   "cell_type": "code",
   "execution_count": 22,
   "id": "cf153acf",
   "metadata": {},
   "outputs": [],
   "source": [
    "df.reset_index(drop=True, inplace=True)"
   ]
  },
  {
   "cell_type": "markdown",
   "id": "a956e358",
   "metadata": {},
   "source": [
    "# Save cleaned dataset"
   ]
  },
  {
   "cell_type": "code",
   "execution_count": 23,
   "id": "27fbd450",
   "metadata": {},
   "outputs": [
    {
     "name": "stdout",
     "output_type": "stream",
     "text": [
      "📁 Cleaned data saved to: data/processed/flights_clean.csv\n"
     ]
    }
   ],
   "source": [
    "os.makedirs(\"../data/processed\", exist_ok=True)\n",
    "df.to_csv(\"../data/processed/flights_clean.csv\", index=False)\n",
    "print(\"📁 Cleaned data saved to: data/processed/flights_clean.csv\")"
   ]
  }
 ],
 "metadata": {
  "kernelspec": {
   "display_name": ".venv",
   "language": "python",
   "name": "python3"
  },
  "language_info": {
   "codemirror_mode": {
    "name": "ipython",
    "version": 3
   },
   "file_extension": ".py",
   "mimetype": "text/x-python",
   "name": "python",
   "nbconvert_exporter": "python",
   "pygments_lexer": "ipython3",
   "version": "3.12.0"
  }
 },
 "nbformat": 4,
 "nbformat_minor": 5
}
