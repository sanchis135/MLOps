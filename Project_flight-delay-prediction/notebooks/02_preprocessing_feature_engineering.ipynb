{
 "cells": [
  {
   "cell_type": "markdown",
   "id": "d714c113",
   "metadata": {},
   "source": [
    "# Preprocessing and Feature Engineering\n",
    "\n",
    "In this notebook, we will clean the dataset, create meaningful features, and prepare the data for modeling. \n",
    "\n",
    "We will:\n",
    "- Convert time features to usable formats\n",
    "- Encode categorical variables\n",
    "- Handle missing values\n",
    "- Create new features to capture important information\n",
    "- Prepare the dataset for machine learning"
   ]
  },
  {
   "cell_type": "code",
   "execution_count": 19,
   "id": "525ab36f",
   "metadata": {},
   "outputs": [
    {
     "data": {
      "text/html": [
       "<div>\n",
       "<style scoped>\n",
       "    .dataframe tbody tr th:only-of-type {\n",
       "        vertical-align: middle;\n",
       "    }\n",
       "\n",
       "    .dataframe tbody tr th {\n",
       "        vertical-align: top;\n",
       "    }\n",
       "\n",
       "    .dataframe thead th {\n",
       "        text-align: right;\n",
       "    }\n",
       "</style>\n",
       "<table border=\"1\" class=\"dataframe\">\n",
       "  <thead>\n",
       "    <tr style=\"text-align: right;\">\n",
       "      <th></th>\n",
       "      <th>is_delay</th>\n",
       "      <th>Year</th>\n",
       "      <th>Quarter</th>\n",
       "      <th>Month</th>\n",
       "      <th>DayofMonth</th>\n",
       "      <th>DayOfWeek</th>\n",
       "      <th>FlightDate</th>\n",
       "      <th>Reporting_Airline</th>\n",
       "      <th>Origin</th>\n",
       "      <th>OriginState</th>\n",
       "      <th>...</th>\n",
       "      <th>DestState</th>\n",
       "      <th>CRSDepTime</th>\n",
       "      <th>Cancelled</th>\n",
       "      <th>Diverted</th>\n",
       "      <th>Distance</th>\n",
       "      <th>DistanceGroup</th>\n",
       "      <th>ArrDelay</th>\n",
       "      <th>ArrDelayMinutes</th>\n",
       "      <th>AirTime</th>\n",
       "      <th>CRSDepHour</th>\n",
       "    </tr>\n",
       "  </thead>\n",
       "  <tbody>\n",
       "    <tr>\n",
       "      <th>0</th>\n",
       "      <td>1</td>\n",
       "      <td>2014</td>\n",
       "      <td>1</td>\n",
       "      <td>1</td>\n",
       "      <td>1</td>\n",
       "      <td>3</td>\n",
       "      <td>2014-01-01</td>\n",
       "      <td>UA</td>\n",
       "      <td>LAX</td>\n",
       "      <td>CA</td>\n",
       "      <td>...</td>\n",
       "      <td>IL</td>\n",
       "      <td>900</td>\n",
       "      <td>0.0</td>\n",
       "      <td>0.0</td>\n",
       "      <td>1744.0</td>\n",
       "      <td>7</td>\n",
       "      <td>43.0</td>\n",
       "      <td>43.0</td>\n",
       "      <td>218.0</td>\n",
       "      <td>9</td>\n",
       "    </tr>\n",
       "    <tr>\n",
       "      <th>1</th>\n",
       "      <td>0</td>\n",
       "      <td>2014</td>\n",
       "      <td>1</td>\n",
       "      <td>1</td>\n",
       "      <td>1</td>\n",
       "      <td>3</td>\n",
       "      <td>2014-01-01</td>\n",
       "      <td>AA</td>\n",
       "      <td>IAH</td>\n",
       "      <td>TX</td>\n",
       "      <td>...</td>\n",
       "      <td>TX</td>\n",
       "      <td>1750</td>\n",
       "      <td>0.0</td>\n",
       "      <td>0.0</td>\n",
       "      <td>224.0</td>\n",
       "      <td>1</td>\n",
       "      <td>2.0</td>\n",
       "      <td>2.0</td>\n",
       "      <td>50.0</td>\n",
       "      <td>17</td>\n",
       "    </tr>\n",
       "    <tr>\n",
       "      <th>2</th>\n",
       "      <td>1</td>\n",
       "      <td>2014</td>\n",
       "      <td>1</td>\n",
       "      <td>1</td>\n",
       "      <td>1</td>\n",
       "      <td>3</td>\n",
       "      <td>2014-01-01</td>\n",
       "      <td>AA</td>\n",
       "      <td>LAX</td>\n",
       "      <td>CA</td>\n",
       "      <td>...</td>\n",
       "      <td>IL</td>\n",
       "      <td>1240</td>\n",
       "      <td>0.0</td>\n",
       "      <td>0.0</td>\n",
       "      <td>1744.0</td>\n",
       "      <td>7</td>\n",
       "      <td>26.0</td>\n",
       "      <td>26.0</td>\n",
       "      <td>220.0</td>\n",
       "      <td>12</td>\n",
       "    </tr>\n",
       "    <tr>\n",
       "      <th>3</th>\n",
       "      <td>1</td>\n",
       "      <td>2014</td>\n",
       "      <td>1</td>\n",
       "      <td>1</td>\n",
       "      <td>1</td>\n",
       "      <td>3</td>\n",
       "      <td>2014-01-01</td>\n",
       "      <td>AA</td>\n",
       "      <td>DFW</td>\n",
       "      <td>TX</td>\n",
       "      <td>...</td>\n",
       "      <td>CA</td>\n",
       "      <td>1905</td>\n",
       "      <td>0.0</td>\n",
       "      <td>0.0</td>\n",
       "      <td>1235.0</td>\n",
       "      <td>5</td>\n",
       "      <td>159.0</td>\n",
       "      <td>159.0</td>\n",
       "      <td>169.0</td>\n",
       "      <td>19</td>\n",
       "    </tr>\n",
       "    <tr>\n",
       "      <th>4</th>\n",
       "      <td>0</td>\n",
       "      <td>2014</td>\n",
       "      <td>1</td>\n",
       "      <td>1</td>\n",
       "      <td>1</td>\n",
       "      <td>3</td>\n",
       "      <td>2014-01-01</td>\n",
       "      <td>AA</td>\n",
       "      <td>DFW</td>\n",
       "      <td>TX</td>\n",
       "      <td>...</td>\n",
       "      <td>NC</td>\n",
       "      <td>1115</td>\n",
       "      <td>0.0</td>\n",
       "      <td>0.0</td>\n",
       "      <td>936.0</td>\n",
       "      <td>4</td>\n",
       "      <td>-13.0</td>\n",
       "      <td>0.0</td>\n",
       "      <td>108.0</td>\n",
       "      <td>11</td>\n",
       "    </tr>\n",
       "  </tbody>\n",
       "</table>\n",
       "<p>5 rows × 21 columns</p>\n",
       "</div>"
      ],
      "text/plain": [
       "   is_delay  Year  Quarter  Month  DayofMonth  DayOfWeek  FlightDate  \\\n",
       "0         1  2014        1      1           1          3  2014-01-01   \n",
       "1         0  2014        1      1           1          3  2014-01-01   \n",
       "2         1  2014        1      1           1          3  2014-01-01   \n",
       "3         1  2014        1      1           1          3  2014-01-01   \n",
       "4         0  2014        1      1           1          3  2014-01-01   \n",
       "\n",
       "  Reporting_Airline Origin OriginState  ... DestState CRSDepTime  Cancelled  \\\n",
       "0                UA    LAX          CA  ...        IL        900        0.0   \n",
       "1                AA    IAH          TX  ...        TX       1750        0.0   \n",
       "2                AA    LAX          CA  ...        IL       1240        0.0   \n",
       "3                AA    DFW          TX  ...        CA       1905        0.0   \n",
       "4                AA    DFW          TX  ...        NC       1115        0.0   \n",
       "\n",
       "   Diverted  Distance  DistanceGroup  ArrDelay  ArrDelayMinutes  AirTime  \\\n",
       "0       0.0    1744.0              7      43.0             43.0    218.0   \n",
       "1       0.0     224.0              1       2.0              2.0     50.0   \n",
       "2       0.0    1744.0              7      26.0             26.0    220.0   \n",
       "3       0.0    1235.0              5     159.0            159.0    169.0   \n",
       "4       0.0     936.0              4     -13.0              0.0    108.0   \n",
       "\n",
       "   CRSDepHour  \n",
       "0           9  \n",
       "1          17  \n",
       "2          12  \n",
       "3          19  \n",
       "4          11  \n",
       "\n",
       "[5 rows x 21 columns]"
      ]
     },
     "execution_count": 19,
     "metadata": {},
     "output_type": "execute_result"
    }
   ],
   "source": [
    "# Imports\n",
    "import pandas as pd\n",
    "import numpy as np\n",
    "import matplotlib.pyplot as plt\n",
    "import seaborn as sns\n",
    "import os\n",
    "\n",
    "sns.set_style('whitegrid')\n",
    "\n",
    "# Load the cleaned dataset\n",
    "data_path = \"../data/processed/flights_clean.csv\"\n",
    "df = pd.read_csv(data_path)\n",
    "\n",
    "# Quick look\n",
    "df.head()"
   ]
  },
  {
   "cell_type": "markdown",
   "id": "c4724561",
   "metadata": {},
   "source": [
    "# Check data types and missing values"
   ]
  },
  {
   "cell_type": "code",
   "execution_count": 20,
   "id": "5aab84ec",
   "metadata": {},
   "outputs": [
    {
     "name": "stdout",
     "output_type": "stream",
     "text": [
      "Data types:\n",
      " is_delay               int64\n",
      "Year                   int64\n",
      "Quarter                int64\n",
      "Month                  int64\n",
      "DayofMonth             int64\n",
      "DayOfWeek              int64\n",
      "FlightDate            object\n",
      "Reporting_Airline     object\n",
      "Origin                object\n",
      "OriginState           object\n",
      "Dest                  object\n",
      "DestState             object\n",
      "CRSDepTime             int64\n",
      "Cancelled            float64\n",
      "Diverted             float64\n",
      "Distance             float64\n",
      "DistanceGroup          int64\n",
      "ArrDelay             float64\n",
      "ArrDelayMinutes      float64\n",
      "AirTime              float64\n",
      "CRSDepHour             int64\n",
      "dtype: object\n",
      "\n",
      "Missing values:\n",
      " is_delay             0\n",
      "Year                 0\n",
      "Quarter              0\n",
      "Month                0\n",
      "DayofMonth           0\n",
      "DayOfWeek            0\n",
      "FlightDate           0\n",
      "Reporting_Airline    0\n",
      "Origin               0\n",
      "OriginState          0\n",
      "Dest                 0\n",
      "DestState            0\n",
      "CRSDepTime           0\n",
      "Cancelled            0\n",
      "Diverted             0\n",
      "Distance             0\n",
      "DistanceGroup        0\n",
      "ArrDelay             0\n",
      "ArrDelayMinutes      0\n",
      "AirTime              0\n",
      "CRSDepHour           0\n",
      "dtype: int64\n"
     ]
    }
   ],
   "source": [
    "print(\"Data types:\\n\", df.dtypes)\n",
    "print(\"\\nMissing values:\\n\", df.isnull().sum())"
   ]
  },
  {
   "cell_type": "markdown",
   "id": "6a1de026",
   "metadata": {},
   "source": [
    "# Convert columns to appropriate data types"
   ]
  },
  {
   "cell_type": "code",
   "execution_count": 21,
   "id": "780664cf",
   "metadata": {},
   "outputs": [
    {
     "data": {
      "text/html": [
       "<div>\n",
       "<style scoped>\n",
       "    .dataframe tbody tr th:only-of-type {\n",
       "        vertical-align: middle;\n",
       "    }\n",
       "\n",
       "    .dataframe tbody tr th {\n",
       "        vertical-align: top;\n",
       "    }\n",
       "\n",
       "    .dataframe thead th {\n",
       "        text-align: right;\n",
       "    }\n",
       "</style>\n",
       "<table border=\"1\" class=\"dataframe\">\n",
       "  <thead>\n",
       "    <tr style=\"text-align: right;\">\n",
       "      <th></th>\n",
       "      <th>FlightDate</th>\n",
       "      <th>ScheduledHour</th>\n",
       "    </tr>\n",
       "  </thead>\n",
       "  <tbody>\n",
       "    <tr>\n",
       "      <th>0</th>\n",
       "      <td>2014-01-01</td>\n",
       "      <td>9</td>\n",
       "    </tr>\n",
       "    <tr>\n",
       "      <th>1</th>\n",
       "      <td>2014-01-01</td>\n",
       "      <td>17</td>\n",
       "    </tr>\n",
       "    <tr>\n",
       "      <th>2</th>\n",
       "      <td>2014-01-01</td>\n",
       "      <td>12</td>\n",
       "    </tr>\n",
       "    <tr>\n",
       "      <th>3</th>\n",
       "      <td>2014-01-01</td>\n",
       "      <td>19</td>\n",
       "    </tr>\n",
       "    <tr>\n",
       "      <th>4</th>\n",
       "      <td>2014-01-01</td>\n",
       "      <td>11</td>\n",
       "    </tr>\n",
       "  </tbody>\n",
       "</table>\n",
       "</div>"
      ],
      "text/plain": [
       "  FlightDate  ScheduledHour\n",
       "0 2014-01-01              9\n",
       "1 2014-01-01             17\n",
       "2 2014-01-01             12\n",
       "3 2014-01-01             19\n",
       "4 2014-01-01             11"
      ]
     },
     "execution_count": 21,
     "metadata": {},
     "output_type": "execute_result"
    }
   ],
   "source": [
    "df['FlightDate'] = pd.to_datetime(df['FlightDate'])\n",
    "df['ScheduledHour'] = df['CRSDepTime'].astype(str).str.zfill(4).str[:2].astype(int)\n",
    "\n",
    "df[['FlightDate', 'ScheduledHour']].head()"
   ]
  },
  {
   "cell_type": "markdown",
   "id": "731e2642",
   "metadata": {},
   "source": [
    "# Handle missing values in important columns"
   ]
  },
  {
   "cell_type": "code",
   "execution_count": 22,
   "id": "5d1dd4c7",
   "metadata": {},
   "outputs": [
    {
     "name": "stdout",
     "output_type": "stream",
     "text": [
      "ArrDelayMinutes    0\n",
      "AirTime            0\n",
      "dtype: int64\n"
     ]
    }
   ],
   "source": [
    "# Fill missing ArrDelayMinutes and AirTime with median or zero\n",
    "df['ArrDelayMinutes'] = df['ArrDelayMinutes'].fillna(0)\n",
    "df['AirTime'] = df['AirTime'].fillna(df['AirTime'].median())\n",
    "\n",
    "# Verify no more missing values in these columns\n",
    "print(df[['ArrDelayMinutes', 'AirTime']].isnull().sum())"
   ]
  },
  {
   "cell_type": "markdown",
   "id": "4afc514a",
   "metadata": {},
   "source": [
    "# Encode categorical variables with one-hot encoding"
   ]
  },
  {
   "cell_type": "code",
   "execution_count": 23,
   "id": "2b1296ee",
   "metadata": {},
   "outputs": [
    {
     "name": "stdout",
     "output_type": "stream",
     "text": [
      "Shape before encoding: (1635590, 22)\n",
      "Shape after encoding: (1635590, 39)\n"
     ]
    }
   ],
   "source": [
    "categorical_cols = ['Reporting_Airline', 'Origin', 'Dest']\n",
    "df_encoded = pd.get_dummies(df, columns=categorical_cols, drop_first=True)\n",
    "\n",
    "print(f\"Shape before encoding: {df.shape}\")\n",
    "print(f\"Shape after encoding: {df_encoded.shape}\")"
   ]
  },
  {
   "cell_type": "markdown",
   "id": "fbc99dab",
   "metadata": {},
   "source": [
    "# Feature selection: Drop columns not used for modeling"
   ]
  },
  {
   "cell_type": "code",
   "execution_count": 24,
   "id": "e9e45059",
   "metadata": {},
   "outputs": [],
   "source": [
    "drop_cols = ['ArrDelay']  # Keep 'is_delay' as target\n",
    "df_features = df_encoded.drop(columns=drop_cols, errors='ignore')"
   ]
  },
  {
   "cell_type": "markdown",
   "id": "0931bbff",
   "metadata": {},
   "source": [
    "# Prepare train/test split"
   ]
  },
  {
   "cell_type": "code",
   "execution_count": 25,
   "id": "fcb7e024",
   "metadata": {},
   "outputs": [
    {
     "name": "stdout",
     "output_type": "stream",
     "text": [
      "Train set shape: (1308472, 37), Test set shape: (327118, 37)\n"
     ]
    }
   ],
   "source": [
    "from sklearn.model_selection import train_test_split\n",
    "\n",
    "target_col = 'is_delay'\n",
    "X = df_features.drop(columns=[target_col])\n",
    "y = df_features[target_col]\n",
    "\n",
    "X_train, X_test, y_train, y_test = train_test_split(\n",
    "    X, y, test_size=0.2, random_state=42, stratify=y\n",
    ")\n",
    "\n",
    "print(f\"Train set shape: {X_train.shape}, Test set shape: {X_test.shape}\")"
   ]
  },
  {
   "cell_type": "markdown",
   "id": "5efa399b",
   "metadata": {},
   "source": [
    "# Concatenate features and target for saving"
   ]
  },
  {
   "cell_type": "code",
   "execution_count": 26,
   "id": "8030ae4a",
   "metadata": {},
   "outputs": [],
   "source": [
    "train_df = pd.concat([X_train, y_train], axis=1)\n",
    "test_df = pd.concat([X_test, y_test], axis=1)"
   ]
  },
  {
   "cell_type": "markdown",
   "id": "91df73d3",
   "metadata": {},
   "source": [
    "# Save to CSV"
   ]
  },
  {
   "cell_type": "code",
   "execution_count": 27,
   "id": "a27ca0a3",
   "metadata": {},
   "outputs": [
    {
     "name": "stdout",
     "output_type": "stream",
     "text": [
      "✅ train.csv and test.csv saved in data/processed/\n"
     ]
    }
   ],
   "source": [
    "os.makedirs(\"../data/processed\", exist_ok=True)\n",
    "train_df.to_csv(\"../data/processed/train.csv\", index=False)\n",
    "test_df.to_csv(\"../data/processed/test.csv\", index=False)\n",
    "\n",
    "print(\"✅ train.csv and test.csv saved in data/processed/\")"
   ]
  }
 ],
 "metadata": {
  "kernelspec": {
   "display_name": ".venv",
   "language": "python",
   "name": "python3"
  },
  "language_info": {
   "codemirror_mode": {
    "name": "ipython",
    "version": 3
   },
   "file_extension": ".py",
   "mimetype": "text/x-python",
   "name": "python",
   "nbconvert_exporter": "python",
   "pygments_lexer": "ipython3",
   "version": "3.12.0"
  }
 },
 "nbformat": 4,
 "nbformat_minor": 5
}
