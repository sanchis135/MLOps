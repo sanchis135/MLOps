{
 "cells": [
  {
   "cell_type": "markdown",
   "id": "10619c04",
   "metadata": {},
   "source": [
    "# Model Training and Evaluation\n",
    "\n",
    "In this notebook:\n",
    "- Train baseline models (e.g., Random Forest, XGBoost)\n",
    "- Compare performance metrics\n",
    "- Log experiments using MLflow"
   ]
  },
  {
   "cell_type": "code",
   "execution_count": null,
   "id": "19e39894",
   "metadata": {},
   "outputs": [
    {
     "ename": "NameError",
     "evalue": "name 'X_train' is not defined",
     "output_type": "error",
     "traceback": [
      "\u001b[31m---------------------------------------------------------------------------\u001b[39m",
      "\u001b[31mNameError\u001b[39m                                 Traceback (most recent call last)",
      "\u001b[36mCell\u001b[39m\u001b[36m \u001b[39m\u001b[32mIn[1]\u001b[39m\u001b[32m, line 9\u001b[39m\n\u001b[32m      7\u001b[39m \u001b[38;5;66;03m# Join features and target (if not pre-split)\u001b[39;00m\n\u001b[32m      8\u001b[39m df = pd.read_csv(\u001b[33m\"\u001b[39m\u001b[33m../data/processed/flights_clean.csv\u001b[39m\u001b[33m\"\u001b[39m)\n\u001b[32m----> \u001b[39m\u001b[32m9\u001b[39m df = pd.concat([\u001b[43mX_train\u001b[49m, y_train], axis=\u001b[32m1\u001b[39m)  \u001b[38;5;66;03m# si ya tienes X_train, y_train\u001b[39;00m\n\u001b[32m     11\u001b[39m X = df.drop(columns=[\u001b[33m'\u001b[39m\u001b[33mis_delay\u001b[39m\u001b[33m'\u001b[39m])\n\u001b[32m     12\u001b[39m y = df[\u001b[33m'\u001b[39m\u001b[33mis_delay\u001b[39m\u001b[33m'\u001b[39m]\n",
      "\u001b[31mNameError\u001b[39m: name 'X_train' is not defined"
     ]
    }
   ],
   "source": [
    "import pandas as pd\n",
    "from sklearn.ensemble import RandomForestClassifier\n",
    "from sklearn.metrics import accuracy_score, precision_score, recall_score, f1_score, roc_auc_score\n",
    "from sklearn.model_selection import train_test_split\n",
    "import mlflow\n",
    "\n",
    "# Join features and target (if not pre-split)\n",
    "df = pd.read_csv(\"../data/processed/flights_clean.csv\")\n",
    "df = pd.concat([X_train, y_train], axis=1)  # si ya tienes X_train, y_train\n",
    "\n",
    "X = df.drop(columns=['is_delay'])\n",
    "y = df['is_delay']\n",
    "\n",
    "X_train, X_test, y_train, y_test = train_test_split(X, y, test_size=0.2, random_state=42, stratify=y)\n",
    "\n",
    "# Start MLflow run\n",
    "mlflow.set_experiment(\"flight_delay_prediction\")\n",
    "with mlflow.start_run(run_name=\"RandomForest_baseline\"):\n",
    "    clf = RandomForestClassifier(n_estimators=100, random_state=42, n_jobs=-1)\n",
    "    clf.fit(X_train, y_train)\n",
    "\n",
    "    y_pred = clf.predict(X_test)\n",
    "    y_proba = clf.predict_proba(X_test)[:, 1]\n",
    "\n",
    "    acc = accuracy_score(y_test, y_pred)\n",
    "    prec = precision_score(y_test, y_pred)\n",
    "    rec = recall_score(y_test, y_pred)\n",
    "    f1 = f1_score(y_test, y_pred)\n",
    "    auc = roc_auc_score(y_test, y_proba)\n",
    "\n",
    "    # Log metrics\n",
    "    mlflow.log_metrics({\"accuracy\": acc, \"precision\": prec, \"recall\": rec, \"f1_score\": f1, \"roc_auc\": auc})\n",
    "\n",
    "    # Log model\n",
    "    mlflow.sklearn.log_model(clf, \"model\")\n",
    "\n",
    "    print(f\"Accuracy: {acc:.4f}, Precision: {prec:.4f}, Recall: {rec:.4f}, F1: {f1:.4f}, AUC: {auc:.4f}\")\n"
   ]
  }
 ],
 "metadata": {
  "kernelspec": {
   "display_name": ".venv",
   "language": "python",
   "name": "python3"
  },
  "language_info": {
   "codemirror_mode": {
    "name": "ipython",
    "version": 3
   },
   "file_extension": ".py",
   "mimetype": "text/x-python",
   "name": "python",
   "nbconvert_exporter": "python",
   "pygments_lexer": "ipython3",
   "version": "3.12.0"
  }
 },
 "nbformat": 4,
 "nbformat_minor": 5
}
